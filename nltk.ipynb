{
 "cells": [
  {
   "cell_type": "code",
   "execution_count": 1,
   "metadata": {},
   "outputs": [
    {
     "data": {
      "text/plain": [
       "<Figure size 640x480 with 1 Axes>"
      ]
     },
     "metadata": {},
     "output_type": "display_data"
    }
   ],
   "source": [
    "import matplotlib.pyplot as plt; plt.rcdefaults()\n",
    "import numpy as np\n",
    "import matplotlib.pyplot as plt\n",
    "\n",
    "objects = ('20-27', '27-35','35-45', '45-65', '65+')\n",
    "y_pos = np.arange(len(objects))\n",
    "cars = ['3L-7L','7L-12L','12L-22L','12L-22L']\n",
    "performance=[6,10,16,17,15]\n",
    "plt.bar(y_pos, performance, align='center', alpha=0.5)\n",
    "plt.xticks(y_pos, objects)\n",
    "plt.ylabel('Price')\n",
    "plt.xlabel('Age')\n",
    "plt.title('Car Distribution Data')\n",
    "fig1 = plt.gcf()\n",
    "plt.show()\n",
    "fig1.savefig('car-dist.png')"
   ]
  },
  {
   "cell_type": "code",
   "execution_count": 2,
   "metadata": {},
   "outputs": [
    {
     "data": {
      "image/png": "[encoded data removed]",
      "text/plain": [
       "<Figure size 432x288 with 1 Axes>"
      ]
     },
     "metadata": {},
     "output_type": "display_data"
    }
   ],
   "source": [
    "import seaborn as sns; sns.set(color_codes=True)\n",
    "\n",
    "tips = sns.load_dataset(\"tips\")\n",
    "\n",
    "ax = sns.regplot(x=\"total_bill\", y=\"tip\", data=tips)\n",
    "fig = ax.get_figure()\n",
    "fig.savefig('linear regression.png')"
   ]
  },
  {
   "cell_type": "code",
   "execution_count": 3,
   "metadata": {},
   "outputs": [
    {
     "ename": "FileNotFoundError",
     "evalue": "[Errno 2] File b'car.csv' does not exist: b'car.csv'",
     "output_type": "error",
     "traceback": [
      "\u001b[1;31m---------------------------------------------------------------------------\u001b[0m",
      "\u001b[1;31mFileNotFoundError\u001b[0m                         Traceback (most recent call last)",
      "\u001b[1;32m<ipython-input-3-e7eac36d8577>\u001b[0m in \u001b[0;36m<module>\u001b[1;34m\u001b[0m\n\u001b[0;32m      3\u001b[0m \u001b[1;33m\u001b[0m\u001b[0m\n\u001b[0;32m      4\u001b[0m \u001b[1;33m\u001b[0m\u001b[0m\n\u001b[1;32m----> 5\u001b[1;33m \u001b[0mcars\u001b[0m \u001b[1;33m=\u001b[0m \u001b[0mpd\u001b[0m\u001b[1;33m.\u001b[0m\u001b[0mread_csv\u001b[0m\u001b[1;33m(\u001b[0m\u001b[1;34m'car.csv'\u001b[0m\u001b[1;33m)\u001b[0m\u001b[1;33m\u001b[0m\u001b[1;33m\u001b[0m\u001b[0m\n\u001b[0m\u001b[0;32m      6\u001b[0m \u001b[1;33m\u001b[0m\u001b[0m\n\u001b[0;32m      7\u001b[0m \u001b[0max\u001b[0m \u001b[1;33m=\u001b[0m \u001b[0msns\u001b[0m\u001b[1;33m.\u001b[0m\u001b[0mregplot\u001b[0m\u001b[1;33m(\u001b[0m\u001b[0mx\u001b[0m\u001b[1;33m=\u001b[0m\u001b[1;34m\"Age\"\u001b[0m\u001b[1;33m,\u001b[0m \u001b[0my\u001b[0m\u001b[1;33m=\u001b[0m\u001b[1;34m\"Prices\"\u001b[0m\u001b[1;33m,\u001b[0m \u001b[0mdata\u001b[0m\u001b[1;33m=\u001b[0m\u001b[0mcars\u001b[0m\u001b[1;33m)\u001b[0m\u001b[1;33m\u001b[0m\u001b[1;33m\u001b[0m\u001b[0m\n",
      "\u001b[1;32m~\\Anaconda3\\envs\\env_pytorch\\lib\\site-packages\\pandas\\io\\parsers.py\u001b[0m in \u001b[0;36mparser_f\u001b[1;34m(filepath_or_buffer, sep, delimiter, header, names, index_col, usecols, squeeze, prefix, mangle_dupe_cols, dtype, engine, converters, true_values, false_values, skipinitialspace, skiprows, skipfooter, nrows, na_values, keep_default_na, na_filter, verbose, skip_blank_lines, parse_dates, infer_datetime_format, keep_date_col, date_parser, dayfirst, cache_dates, iterator, chunksize, compression, thousands, decimal, lineterminator, quotechar, quoting, doublequote, escapechar, comment, encoding, dialect, error_bad_lines, warn_bad_lines, delim_whitespace, low_memory, memory_map, float_precision)\u001b[0m\n\u001b[0;32m    683\u001b[0m         )\n\u001b[0;32m    684\u001b[0m \u001b[1;33m\u001b[0m\u001b[0m\n\u001b[1;32m--> 685\u001b[1;33m         \u001b[1;32mreturn\u001b[0m \u001b[0m_read\u001b[0m\u001b[1;33m(\u001b[0m\u001b[0mfilepath_or_buffer\u001b[0m\u001b[1;33m,\u001b[0m \u001b[0mkwds\u001b[0m\u001b[1;33m)\u001b[0m\u001b[1;33m\u001b[0m\u001b[1;33m\u001b[0m\u001b[0m\n\u001b[0m\u001b[0;32m    686\u001b[0m \u001b[1;33m\u001b[0m\u001b[0m\n\u001b[0;32m    687\u001b[0m     \u001b[0mparser_f\u001b[0m\u001b[1;33m.\u001b[0m\u001b[0m__name__\u001b[0m \u001b[1;33m=\u001b[0m \u001b[0mname\u001b[0m\u001b[1;33m\u001b[0m\u001b[1;33m\u001b[0m\u001b[0m\n",
      "\u001b[1;32m~\\Anaconda3\\envs\\env_pytorch\\lib\\site-packages\\pandas\\io\\parsers.py\u001b[0m in \u001b[0;36m_read\u001b[1;34m(filepath_or_buffer, kwds)\u001b[0m\n\u001b[0;32m    455\u001b[0m \u001b[1;33m\u001b[0m\u001b[0m\n\u001b[0;32m    456\u001b[0m     \u001b[1;31m# Create the parser.\u001b[0m\u001b[1;33m\u001b[0m\u001b[1;33m\u001b[0m\u001b[1;33m\u001b[0m\u001b[0m\n\u001b[1;32m--> 457\u001b[1;33m     \u001b[0mparser\u001b[0m \u001b[1;33m=\u001b[0m \u001b[0mTextFileReader\u001b[0m\u001b[1;33m(\u001b[0m\u001b[0mfp_or_buf\u001b[0m\u001b[1;33m,\u001b[0m \u001b[1;33m**\u001b[0m\u001b[0mkwds\u001b[0m\u001b[1;33m)\u001b[0m\u001b[1;33m\u001b[0m\u001b[1;33m\u001b[0m\u001b[0m\n\u001b[0m\u001b[0;32m    458\u001b[0m \u001b[1;33m\u001b[0m\u001b[0m\n\u001b[0;32m    459\u001b[0m     \u001b[1;32mif\u001b[0m \u001b[0mchunksize\u001b[0m \u001b[1;32mor\u001b[0m \u001b[0miterator\u001b[0m\u001b[1;33m:\u001b[0m\u001b[1;33m\u001b[0m\u001b[1;33m\u001b[0m\u001b[0m\n",
      "\u001b[1;32m~\\Anaconda3\\envs\\env_pytorch\\lib\\site-packages\\pandas\\io\\parsers.py\u001b[0m in \u001b[0;36m__init__\u001b[1;34m(self, f, engine, **kwds)\u001b[0m\n\u001b[0;32m    893\u001b[0m             \u001b[0mself\u001b[0m\u001b[1;33m.\u001b[0m\u001b[0moptions\u001b[0m\u001b[1;33m[\u001b[0m\u001b[1;34m\"has_index_names\"\u001b[0m\u001b[1;33m]\u001b[0m \u001b[1;33m=\u001b[0m \u001b[0mkwds\u001b[0m\u001b[1;33m[\u001b[0m\u001b[1;34m\"has_index_names\"\u001b[0m\u001b[1;33m]\u001b[0m\u001b[1;33m\u001b[0m\u001b[1;33m\u001b[0m\u001b[0m\n\u001b[0;32m    894\u001b[0m \u001b[1;33m\u001b[0m\u001b[0m\n\u001b[1;32m--> 895\u001b[1;33m         \u001b[0mself\u001b[0m\u001b[1;33m.\u001b[0m\u001b[0m_make_engine\u001b[0m\u001b[1;33m(\u001b[0m\u001b[0mself\u001b[0m\u001b[1;33m.\u001b[0m\u001b[0mengine\u001b[0m\u001b[1;33m)\u001b[0m\u001b[1;33m\u001b[0m\u001b[1;33m\u001b[0m\u001b[0m\n\u001b[0m\u001b[0;32m    896\u001b[0m \u001b[1;33m\u001b[0m\u001b[0m\n\u001b[0;32m    897\u001b[0m     \u001b[1;32mdef\u001b[0m \u001b[0mclose\u001b[0m\u001b[1;33m(\u001b[0m\u001b[0mself\u001b[0m\u001b[1;33m)\u001b[0m\u001b[1;33m:\u001b[0m\u001b[1;33m\u001b[0m\u001b[1;33m\u001b[0m\u001b[0m\n",
      "\u001b[1;32m~\\Anaconda3\\envs\\env_pytorch\\lib\\site-packages\\pandas\\io\\parsers.py\u001b[0m in \u001b[0;36m_make_engine\u001b[1;34m(self, engine)\u001b[0m\n\u001b[0;32m   1133\u001b[0m     \u001b[1;32mdef\u001b[0m \u001b[0m_make_engine\u001b[0m\u001b[1;33m(\u001b[0m\u001b[0mself\u001b[0m\u001b[1;33m,\u001b[0m \u001b[0mengine\u001b[0m\u001b[1;33m=\u001b[0m\u001b[1;34m\"c\"\u001b[0m\u001b[1;33m)\u001b[0m\u001b[1;33m:\u001b[0m\u001b[1;33m\u001b[0m\u001b[1;33m\u001b[0m\u001b[0m\n\u001b[0;32m   1134\u001b[0m         \u001b[1;32mif\u001b[0m \u001b[0mengine\u001b[0m \u001b[1;33m==\u001b[0m \u001b[1;34m\"c\"\u001b[0m\u001b[1;33m:\u001b[0m\u001b[1;33m\u001b[0m\u001b[1;33m\u001b[0m\u001b[0m\n\u001b[1;32m-> 1135\u001b[1;33m             \u001b[0mself\u001b[0m\u001b[1;33m.\u001b[0m\u001b[0m_engine\u001b[0m \u001b[1;33m=\u001b[0m \u001b[0mCParserWrapper\u001b[0m\u001b[1;33m(\u001b[0m\u001b[0mself\u001b[0m\u001b[1;33m.\u001b[0m\u001b[0mf\u001b[0m\u001b[1;33m,\u001b[0m \u001b[1;33m**\u001b[0m\u001b[0mself\u001b[0m\u001b[1;33m.\u001b[0m\u001b[0moptions\u001b[0m\u001b[1;33m)\u001b[0m\u001b[1;33m\u001b[0m\u001b[1;33m\u001b[0m\u001b[0m\n\u001b[0m\u001b[0;32m   1136\u001b[0m         \u001b[1;32melse\u001b[0m\u001b[1;33m:\u001b[0m\u001b[1;33m\u001b[0m\u001b[1;33m\u001b[0m\u001b[0m\n\u001b[0;32m   1137\u001b[0m             \u001b[1;32mif\u001b[0m \u001b[0mengine\u001b[0m \u001b[1;33m==\u001b[0m \u001b[1;34m\"python\"\u001b[0m\u001b[1;33m:\u001b[0m\u001b[1;33m\u001b[0m\u001b[1;33m\u001b[0m\u001b[0m\n",
      "\u001b[1;32m~\\Anaconda3\\envs\\env_pytorch\\lib\\site-packages\\pandas\\io\\parsers.py\u001b[0m in \u001b[0;36m__init__\u001b[1;34m(self, src, **kwds)\u001b[0m\n\u001b[0;32m   1915\u001b[0m         \u001b[0mkwds\u001b[0m\u001b[1;33m[\u001b[0m\u001b[1;34m\"usecols\"\u001b[0m\u001b[1;33m]\u001b[0m \u001b[1;33m=\u001b[0m \u001b[0mself\u001b[0m\u001b[1;33m.\u001b[0m\u001b[0musecols\u001b[0m\u001b[1;33m\u001b[0m\u001b[1;33m\u001b[0m\u001b[0m\n\u001b[0;32m   1916\u001b[0m \u001b[1;33m\u001b[0m\u001b[0m\n\u001b[1;32m-> 1917\u001b[1;33m         \u001b[0mself\u001b[0m\u001b[1;33m.\u001b[0m\u001b[0m_reader\u001b[0m \u001b[1;33m=\u001b[0m \u001b[0mparsers\u001b[0m\u001b[1;33m.\u001b[0m\u001b[0mTextReader\u001b[0m\u001b[1;33m(\u001b[0m\u001b[0msrc\u001b[0m\u001b[1;33m,\u001b[0m \u001b[1;33m**\u001b[0m\u001b[0mkwds\u001b[0m\u001b[1;33m)\u001b[0m\u001b[1;33m\u001b[0m\u001b[1;33m\u001b[0m\u001b[0m\n\u001b[0m\u001b[0;32m   1918\u001b[0m         \u001b[0mself\u001b[0m\u001b[1;33m.\u001b[0m\u001b[0munnamed_cols\u001b[0m \u001b[1;33m=\u001b[0m \u001b[0mself\u001b[0m\u001b[1;33m.\u001b[0m\u001b[0m_reader\u001b[0m\u001b[1;33m.\u001b[0m\u001b[0munnamed_cols\u001b[0m\u001b[1;33m\u001b[0m\u001b[1;33m\u001b[0m\u001b[0m\n\u001b[0;32m   1919\u001b[0m \u001b[1;33m\u001b[0m\u001b[0m\n",
      "\u001b[1;32mpandas\\_libs\\parsers.pyx\u001b[0m in \u001b[0;36mpandas._libs.parsers.TextReader.__cinit__\u001b[1;34m()\u001b[0m\n",
      "\u001b[1;32mpandas\\_libs\\parsers.pyx\u001b[0m in \u001b[0;36mpandas._libs.parsers.TextReader._setup_parser_source\u001b[1;34m()\u001b[0m\n",
      "\u001b[1;31mFileNotFoundError\u001b[0m: [Errno 2] File b'car.csv' does not exist: b'car.csv'"
     ]
    }
   ],
   "source": [
    "import pandas as pd\n",
    "import seaborn as sns; sns.set(color_codes=True)\n",
    "\n",
    "\n",
    "cars = pd.read_csv('car.csv')\n",
    "\n",
    "ax = sns.regplot(x=\"Age\", y=\"Prices\", data=cars)\n",
    "fig = ax.get_figure()\n",
    "fig.savefig('reg_plot.png')"
   ]
  },
  {
   "cell_type": "code",
   "execution_count": null,
   "metadata": {},
   "outputs": [],
   "source": [
    "# a = [ 5, 9, 6, 8, 6, 4, 6, 9, 5, 4, 9 ] \n",
    "a=[6,7,9,5,5,8]\n",
    "n = len(a)\n",
    "L = [0]*n\n",
    "R = [0]*n\n",
    "\n",
    "L[0]=0\n",
    "R[n-1]=0\n",
    "\n",
    "for i in range(1,n):\n",
    "#     print(\"for i=\",i)\n",
    "    if a[i]>=a[i-1]:\n",
    "        l_ind = L[i-1]\n",
    "#         print(\"is {} < {}\".format(a[l_ind],a[i]))\n",
    "        while a[l_ind] <= a[i]:\n",
    "            l_ind = L[l_ind]\n",
    "#             print(l_ind)\n",
    "            if l_ind==0:\n",
    "#                 print(\"breaking\")\n",
    "                break\n",
    "        L[i]=l_ind\n",
    "    else:\n",
    "        L[i]=i-1\n",
    "#     print('\\n')\n",
    "    \n",
    "for i in range(n-2,-1,-1):\n",
    "#     print(\"for i=\",i)\n",
    "#     print(\"is {} >= {}\".format(a[i],a[i+1]))\n",
    "    if a[i]>=a[i+1]:\n",
    "        r_ind = R[i+1]\n",
    "        while a[r_ind]<= a[i]:\n",
    "#             print(\"while {} <= {}\".format(a[r_ind],a[i]))\n",
    "            r_ind = R[r_ind]\n",
    "#             print(r_ind)\n",
    "            if r_ind==0:\n",
    "                break\n",
    "        R[i]=r_ind\n",
    "    else:\n",
    "        R[i]=i+1\n",
    "#     print('\\n')"
   ]
  },
  {
   "cell_type": "code",
   "execution_count": null,
   "metadata": {},
   "outputs": [],
   "source": [
    "L"
   ]
  },
  {
   "cell_type": "code",
   "execution_count": null,
   "metadata": {},
   "outputs": [],
   "source": [
    "R"
   ]
  },
  {
   "cell_type": "code",
   "execution_count": null,
   "metadata": {},
   "outputs": [],
   "source": [
    "positive = ['Negative','Negative','Negative','Positive','Positive','Negative','Negative','Negative','Negative','Negative','Positive','Negative','Negative','Negative','Negative','Negative','Negative','Positive','Negative','Negative']"
   ]
  },
  {
   "cell_type": "code",
   "execution_count": null,
   "metadata": {},
   "outputs": [],
   "source": [
    "import pandas as pd\n",
    "df = pd.DataFrame(positive,columns = ['Ground_Truth'])\n",
    "df"
   ]
  },
  {
   "cell_type": "code",
   "execution_count": null,
   "metadata": {},
   "outputs": [],
   "source": [
    "model_1 = ['Negative']*20\n",
    "model_2 = positive = ['Negative','Negative','Negative','Negative','Positive','Negative','Negative','Negative','Positive','Negative','Positive','Negative','Negative','Negative','Negative','Negative','Negative','Negative','Positive','Negative']"
   ]
  },
  {
   "cell_type": "code",
   "execution_count": null,
   "metadata": {},
   "outputs": [],
   "source": [
    "df['model_1_results']=model_1\n",
    "df['model_2_results']=model_2"
   ]
  },
  {
   "cell_type": "code",
   "execution_count": null,
   "metadata": {},
   "outputs": [],
   "source": [
    "import nltk"
   ]
  },
  {
   "cell_type": "code",
   "execution_count": null,
   "metadata": {},
   "outputs": [],
   "source": [
    "nltk.download()"
   ]
  },
  {
   "cell_type": "code",
   "execution_count": null,
   "metadata": {},
   "outputs": [],
   "source": [
    "nltk.download('wordnet')"
   ]
  },
  {
   "cell_type": "code",
   "execution_count": null,
   "metadata": {},
   "outputs": [],
   "source": [
    "paragraph='john does his work intelligently. john is an intelligent man. john is always working'\n",
    "sentences = nltk.sent_tokenize(paragraph)\n"
   ]
  },
  {
   "cell_type": "code",
   "execution_count": null,
   "metadata": {},
   "outputs": [],
   "source": [
    "sentences"
   ]
  },
  {
   "cell_type": "code",
   "execution_count": null,
   "metadata": {},
   "outputs": [],
   "source": [
    "# lementization make sures that root word has a meaning, whereas tokenization may not preserve meaning.\n",
    "from nltk.stem.snowball import SnowballStemmer\n",
    "s_stem = SnowballStemmer(language='english')\n",
    "sentences_stem=[]\n",
    "for i in range(len(sentences)):\n",
    "    words = nltk.word_tokenize(sentences[i])\n",
    "    words = [s_stem.stem(w) for w in words]\n",
    "    sentences_stem.append(' '.join(words))\n",
    "    \n",
    "from nltk.stem import WordNetLemmatizer\n",
    "lemmatizer = WordNetLemmatizer()\n",
    "\n",
    "sentences_lem=[]\n",
    "for i in range(len(sentences)):\n",
    "    words = nltk.word_tokenize(sentences[i])\n",
    "    words = [lemmatizer.lemmatize(w) for w in words]\n",
    "    sentences_lem.append(' '.join(words))"
   ]
  },
  {
   "cell_type": "code",
   "execution_count": null,
   "metadata": {},
   "outputs": [],
   "source": [
    "# remove stop words\n",
    "stopword_sen=[]\n",
    "from nltk.corpus import stopwords\n",
    "for i in range(len(sentences)):\n",
    "    words = nltk.word_tokenize(sentences[i])\n",
    "    words = [w for w in words of w not in stopwords.words('english')]\n",
    "    stopword_sen.append(' '.join(words))"
   ]
  },
  {
   "cell_type": "code",
   "execution_count": null,
   "metadata": {},
   "outputs": [],
   "source": [
    "# POS tagging\n",
    "words = nltk.word_tokenize(sentences)\n",
    "tagged_words = nltk.pos_tag(words)\n"
   ]
  },
  {
   "cell_type": "markdown",
   "metadata": {},
   "source": [
    "<p>Here are the meanings of the Parts-Of-Speech tags used in NLTK</p>\n",
    "\n",
    "<table>  <tbody><tr>   <td>   <p>CC\n",
    "\n",
    "   \n",
    "\n",
    "   </p></td><td>   <p>Coordinating conjunction</p></td></tr>  <tr>   <td>   <p>CD\n",
    "\n",
    "   \n",
    "\n",
    "   </p></td><td>   <p>Cardinal number\n",
    "\n",
    "   \n",
    "\n",
    "  </p></td></tr>  <tr>   <td>   <p>DT\n",
    "\n",
    "   \n",
    "\n",
    "   </p></td><td>   <p>Determiner\n",
    "\n",
    "   \n",
    "\n",
    "  </p></td></tr>  <tr>   <td>   <p>EX\n",
    "\n",
    "   \n",
    "\n",
    "   </p></td><td>   <p>Existential <em>there</em>\n",
    "\n",
    "   \n",
    "\n",
    "  </p></td></tr>  <tr>   <td>   <p>FW\n",
    "\n",
    "   \n",
    "\n",
    "   </p></td><td>   <p>Foreign word\n",
    "\n",
    "   \n",
    "\n",
    "  </p></td></tr>  <tr>   <td>   <p>IN\n",
    "\n",
    "   \n",
    "\n",
    "   </p></td><td>   <p>Preposition or subordinating   conjunction\n",
    "\n",
    "   \n",
    "\n",
    "  </p></td></tr>  <tr>   <td>   <p>JJ\n",
    "\n",
    "   \n",
    "\n",
    "   </p></td><td>   <p>Adjective\n",
    "\n",
    "   \n",
    "\n",
    "  </p></td></tr>  <tr>   <td>   <p>JJR\n",
    "\n",
    "   \n",
    "\n",
    "   </p></td><td>   <p>Adjective, comparative\n",
    "\n",
    "   \n",
    "\n",
    "  </p></td></tr>  <tr>   <td>   <p>JJS\n",
    "\n",
    "   \n",
    "\n",
    "   </p></td><td>   <p>Adjective, superlative\n",
    "\n",
    "   \n",
    "\n",
    "  </p></td></tr>  <tr>   <td>   <p>LS\n",
    "\n",
    "   \n",
    "\n",
    "   </p></td><td>   <p>List item marker\n",
    "\n",
    "   \n",
    "\n",
    "  </p></td></tr>  <tr>   <td>   <p>MD\n",
    "\n",
    "   \n",
    "\n",
    "   </p></td><td>   <p>Modal\n",
    "\n",
    "   \n",
    "\n",
    "  </p></td></tr>  <tr>   <td>   <p>NN\n",
    "\n",
    "   \n",
    "\n",
    "   </p></td><td>   <p>Noun, singular or mass\n",
    "\n",
    "   \n",
    "\n",
    "  </p></td></tr>  <tr>   <td>   <p>NNS\n",
    "\n",
    "   \n",
    "\n",
    "   </p></td><td>   <p>Noun, plural\n",
    "\n",
    "   \n",
    "\n",
    "  </p></td></tr>  <tr>   <td>   <p>NNP\n",
    "\n",
    "   \n",
    "\n",
    "   </p></td><td>   <p>Proper noun, singular\n",
    "\n",
    "   \n",
    "\n",
    "  </p></td></tr>  <tr>   <td>   <p>NNPS\n",
    "\n",
    "   \n",
    "\n",
    "   </p></td><td>   <p>Proper noun, plural\n",
    "\n",
    "   \n",
    "\n",
    "  </p></td></tr>  <tr>   <td>   <p>PDT\n",
    "\n",
    "   \n",
    "\n",
    "   </p></td><td>   <p>Predeterminer\n",
    "\n",
    "   \n",
    "\n",
    "  </p></td></tr>  <tr>   <td>   <p>POS\n",
    "\n",
    "   \n",
    "\n",
    "   </p></td><td>   <p>Possessive ending\n",
    "\n",
    "   \n",
    "\n",
    "  </p></td></tr>  <tr>   <td>   <p>PRP\n",
    "\n",
    "   \n",
    "\n",
    "   </p></td><td>   <p>Personal pronoun\n",
    "\n",
    "   \n",
    "\n",
    "  </p></td></tr>  <tr>   <td>   <p>PRP$\n",
    "\n",
    "   \n",
    "\n",
    "   </p></td><td>   <p>Possessive pronoun\n",
    "\n",
    "   \n",
    "\n",
    "  </p></td></tr>  <tr>   <td>   <p>RB\n",
    "\n",
    "   \n",
    "\n",
    "   </p></td><td>   <p>Adverb\n",
    "\n",
    "   \n",
    "\n",
    "  </p></td></tr>  <tr>   <td>   <p>RBR\n",
    "\n",
    "   \n",
    "\n",
    "   </p></td><td>   <p>Adverb, comparative\n",
    "\n",
    "   \n",
    "\n",
    "  </p></td></tr>  <tr>   <td>   <p>RBS\n",
    "\n",
    "   \n",
    "\n",
    "   </p></td><td>   <p>Adverb, superlative\n",
    "\n",
    "   \n",
    "\n",
    "  </p></td></tr>  <tr>   <td>   <p>RP\n",
    "\n",
    "   \n",
    "\n",
    "   </p></td><td>   <p>Particle\n",
    "\n",
    "   \n",
    "\n",
    "  </p></td></tr>  <tr>   <td>   <p>SYM\n",
    "\n",
    "   \n",
    "\n",
    "   </p></td><td>   <p>Symbol\n",
    "\n",
    "   \n",
    "\n",
    "  </p></td></tr>  <tr>   <td>   <p>TO\n",
    "\n",
    "   \n",
    "\n",
    "   </p></td><td>   <p><em>to</em>\n",
    "\n",
    "   \n",
    "\n",
    "  </p></td></tr>  <tr>   <td>   <p>UH\n",
    "\n",
    "   \n",
    "\n",
    "   </p></td><td>   <p>Interjection\n",
    "\n",
    "   \n",
    "\n",
    "  </p></td></tr>  <tr>   <td>   <p>VB\n",
    "\n",
    "   \n",
    "\n",
    "   </p></td><td>   <p>Verb, base form\n",
    "\n",
    "   \n",
    "\n",
    "  </p></td></tr>  <tr>   <td>   <p>VBD\n",
    "\n",
    "   \n",
    "\n",
    "   </p></td><td>   <p>Verb, past tense\n",
    "\n",
    "   \n",
    "\n",
    "  </p></td></tr>  <tr>   <td>   <p>VBG\n",
    "\n",
    "   \n",
    "\n",
    "   </p></td><td>   <p>Verb, gerund or present participle\n",
    "\n",
    "   \n",
    "\n",
    "  </p></td></tr>  <tr>   <td>   <p>VBN\n",
    "\n",
    "   \n",
    "\n",
    "   </p></td><td>   <p>Verb, past participle\n",
    "\n",
    "   \n",
    "\n",
    "  </p></td></tr>  <tr>   <td>   <p>VBP\n",
    "\n",
    "   \n",
    "\n",
    "   </p></td><td>   <p>Verb, non-3rd person singular   present\n",
    "\n",
    "   \n",
    "\n",
    "  </p></td></tr>  <tr>   <td>   <p>VBZ\n",
    "\n",
    "   \n",
    "\n",
    "   </p></td><td>   <p>Verb, 3rd person singular present\n",
    "\n",
    "   \n",
    "\n",
    "  </p></td></tr>  <tr>   <td>   <p>WDT\n",
    "\n",
    "   \n",
    "\n",
    "   </p></td><td>   <p>Wh-determiner\n",
    "\n",
    "   \n",
    "\n",
    "  </p></td></tr>  <tr>   <td>   <p>WP\n",
    "\n",
    "   \n",
    "\n",
    "   </p></td><td>   <p>Wh-pronoun\n",
    "\n",
    "   \n",
    "\n",
    "  </p></td></tr>  <tr>   <td>   <p>WP$\n",
    "\n",
    "   \n",
    "\n",
    "   </p></td><td>   <p>Possessive wh-pronoun\n",
    "\n",
    "   \n",
    "\n",
    "  </p></td></tr>  <tr>   <td>   <p>WRB\n",
    "\n",
    "   \n",
    "\n",
    "   </p></td><td>   <p>Wh-adverb\n",
    "\n",
    "   \n",
    "\n",
    "  </p></td></tr> </tbody></table>\n",
    "\n",
    "\n",
    "\n",
    "\n",
    "\n",
    "<p><br></p>"
   ]
  },
  {
   "cell_type": "code",
   "execution_count": 4,
   "metadata": {},
   "outputs": [
    {
     "ename": "NameError",
     "evalue": "name 'nltk' is not defined",
     "output_type": "error",
     "traceback": [
      "\u001b[1;31m---------------------------------------------------------------------------\u001b[0m",
      "\u001b[1;31mNameError\u001b[0m                                 Traceback (most recent call last)",
      "\u001b[1;32m<ipython-input-4-60b7890f8381>\u001b[0m in \u001b[0;36m<module>\u001b[1;34m\u001b[0m\n\u001b[0;32m      1\u001b[0m \u001b[1;31m# named entity recognition\u001b[0m\u001b[1;33m\u001b[0m\u001b[1;33m\u001b[0m\u001b[1;33m\u001b[0m\u001b[0m\n\u001b[1;32m----> 2\u001b[1;33m \u001b[0mwords\u001b[0m \u001b[1;33m=\u001b[0m \u001b[0mnltk\u001b[0m\u001b[1;33m.\u001b[0m\u001b[0mword_tokenize\u001b[0m\u001b[1;33m(\u001b[0m\u001b[0msentences\u001b[0m\u001b[1;33m)\u001b[0m\u001b[1;33m\u001b[0m\u001b[1;33m\u001b[0m\u001b[0m\n\u001b[0m\u001b[0;32m      3\u001b[0m \u001b[0mtagged_words\u001b[0m \u001b[1;33m=\u001b[0m \u001b[0mnltk\u001b[0m\u001b[1;33m.\u001b[0m\u001b[0mpos_tag\u001b[0m\u001b[1;33m(\u001b[0m\u001b[0mwords\u001b[0m\u001b[1;33m)\u001b[0m\u001b[1;33m\u001b[0m\u001b[1;33m\u001b[0m\u001b[0m\n\u001b[0;32m      4\u001b[0m \u001b[1;31m# once you have taged words, pass it to nltk\u001b[0m\u001b[1;33m\u001b[0m\u001b[1;33m\u001b[0m\u001b[1;33m\u001b[0m\u001b[0m\n\u001b[0;32m      5\u001b[0m \u001b[1;33m\u001b[0m\u001b[0m\n",
      "\u001b[1;31mNameError\u001b[0m: name 'nltk' is not defined"
     ]
    }
   ],
   "source": [
    "# named entity recognition\n",
    "words = nltk.word_tokenize(sentences)\n",
    "tagged_words = nltk.pos_tag(words)\n",
    "# once you have taged words, pass it to nltk\n",
    "\n",
    "namedEnt = nltk.ne_chunk(tagged_words)\n",
    "namedEnt.draw()"
   ]
  },
  {
   "cell_type": "code",
   "execution_count": 8,
   "metadata": {},
   "outputs": [
    {
     "data": {
      "text/plain": [
       "defaultdict(int,\n",
       "            {'john': 3,\n",
       "             'does': 1,\n",
       "             'his': 1,\n",
       "             'work': 1,\n",
       "             'intelligently': 1,\n",
       "             'is': 2,\n",
       "             'an': 1,\n",
       "             'intelligent': 1,\n",
       "             'man': 1,\n",
       "             'always': 1,\n",
       "             'working': 1})"
      ]
     },
     "execution_count": 8,
     "metadata": {},
     "output_type": "execute_result"
    }
   ],
   "source": [
    "# First model - BOW model.\n",
    "# Text Visualization\n",
    "import re\n",
    "\n",
    "# first clean using regex\n",
    "for i in range(len(sentences)):\n",
    "    sentences[i] = sentences[i].lower()\n",
    "    sentences[i] = re.sub(r'\\W',' ',sentences[i])\n",
    "\n",
    "import heapq\n",
    "import collections\n",
    "word2count=collections.defaultdict(int)\n",
    "for sent in sentences:\n",
    "    words = nltk.word_tokenize(sent)\n",
    "    for word in words:\n",
    "        word2count[word]+=1\n",
    "        \n",
    "word2count"
   ]
  },
  {
   "cell_type": "code",
   "execution_count": 14,
   "metadata": {},
   "outputs": [
    {
     "data": {
      "text/plain": [
       "['john',\n",
       " 'is',\n",
       " 'does',\n",
       " 'his',\n",
       " 'work',\n",
       " 'intelligently',\n",
       " 'an',\n",
       " 'intelligent',\n",
       " 'man',\n",
       " 'always']"
      ]
     },
     "execution_count": 14,
     "metadata": {},
     "output_type": "execute_result"
    }
   ],
   "source": [
    "freq_words=heapq.nlargest(10,word2count,key=word2count.get)\n",
    "freq_words"
   ]
  },
  {
   "cell_type": "code",
   "execution_count": 18,
   "metadata": {},
   "outputs": [
    {
     "data": {
      "text/plain": [
       "array([[1, 0, 1, 1, 1, 1, 0, 0, 0, 0],\n",
       "       [1, 1, 0, 0, 0, 0, 1, 1, 1, 0],\n",
       "       [1, 1, 0, 0, 0, 0, 0, 0, 0, 1]])"
      ]
     },
     "execution_count": 18,
     "metadata": {},
     "output_type": "execute_result"
    }
   ],
   "source": [
    "x = []\n",
    "import numpy as np\n",
    "\n",
    "for sent in sentences:\n",
    "    vec=[]\n",
    "    for word in freq_words:\n",
    "        if word in nltk.word_tokenize(sent):\n",
    "            vec.append(1)\n",
    "        else:\n",
    "            vec.append(0)\n",
    "            \n",
    "    x.append(vec)\n",
    "        \n",
    "x_arr = np.asarray(x)\n",
    "x_arr"
   ]
  },
  {
   "cell_type": "code",
   "execution_count": 34,
   "metadata": {},
   "outputs": [
    {
     "data": {
      "text/plain": [
       "{'john': 0.6931471805599453,\n",
       " 'is': 1.0986122886681098,\n",
       " 'does': 1.6094379124341003,\n",
       " 'his': 1.6094379124341003,\n",
       " 'work': 1.6094379124341003,\n",
       " 'intelligently': 1.6094379124341003,\n",
       " 'an': 1.6094379124341003,\n",
       " 'intelligent': 1.6094379124341003,\n",
       " 'man': 1.6094379124341003,\n",
       " 'always': 1.6094379124341003}"
      ]
     },
     "execution_count": 34,
     "metadata": {},
     "output_type": "execute_result"
    }
   ],
   "source": [
    "# problem with bag of words\n",
    "# all words have same weight, but that's not ideal\n",
    "# no semantic info is preserved\n",
    "# use tf-idf to improve\n",
    "\n",
    "word_idf={}\n",
    "for word in freq_words:\n",
    "    doc_count = 0\n",
    "    for sent in sentences:\n",
    "        if word in nltk.word_tokenize(sent):\n",
    "            doc_count+=1\n",
    "    word_idf[word] = np.log((len(sentences)/doc_count)+1)\n",
    "word_idf"
   ]
  },
  {
   "cell_type": "code",
   "execution_count": 35,
   "metadata": {},
   "outputs": [
    {
     "data": {
      "text/plain": [
       "{'john': [0.2, 0.2, 0.25, 0.4],\n",
       " 'is': [0.0, 0.2, 0.25, 0.0],\n",
       " 'does': [0.2, 0.0, 0.0, 0.0],\n",
       " 'his': [0.2, 0.0, 0.0, 0.0],\n",
       " 'work': [0.2, 0.0, 0.0, 0.0],\n",
       " 'intelligently': [0.2, 0.0, 0.0, 0.0],\n",
       " 'an': [0.0, 0.2, 0.0, 0.0],\n",
       " 'intelligent': [0.0, 0.2, 0.0, 0.0],\n",
       " 'man': [0.0, 0.2, 0.0, 0.0],\n",
       " 'always': [0.0, 0.0, 0.25, 0.0]}"
      ]
     },
     "execution_count": 35,
     "metadata": {},
     "output_type": "execute_result"
    }
   ],
   "source": [
    "tf_matrix = {}\n",
    "for word in freq_words:\n",
    "    doc_tf = []\n",
    "    for sent in sentences:\n",
    "        freq=0\n",
    "        words=nltk.word_tokenize(sent)\n",
    "        for w in words:\n",
    "            if w == word:\n",
    "                freq+=1\n",
    "        tf_word = freq/len(words)\n",
    "        doc_tf.append(tf_word)\n",
    "    tf_matrix[word] = doc_tf\n",
    "    \n",
    "tf_matrix"
   ]
  },
  {
   "cell_type": "code",
   "execution_count": 32,
   "metadata": {},
   "outputs": [
    {
     "data": {
      "text/plain": [
       "[defaultdict(int,\n",
       "             {'john': 0.2,\n",
       "              'does': 0.2,\n",
       "              'his': 0.2,\n",
       "              'work': 0.2,\n",
       "              'intelligently': 0.2}),\n",
       " defaultdict(int,\n",
       "             {'john': 0.2,\n",
       "              'is': 0.2,\n",
       "              'an': 0.2,\n",
       "              'intelligent': 0.2,\n",
       "              'man': 0.2}),\n",
       " defaultdict(int, {'john': 0.25, 'is': 0.25, 'always': 0.25, 'working': 0.25}),\n",
       " defaultdict(int, {'john': 0.4, 'made': 0.2, 'a': 0.2, 'friend': 0.2})]"
      ]
     },
     "execution_count": 32,
     "metadata": {},
     "output_type": "execute_result"
    }
   ],
   "source": [
    "term_freq=[]\n",
    "for sent in sentences:\n",
    "    freq=collections.defaultdict(int)\n",
    "    words=nltk.word_tokenize(sent)\n",
    "    for word in words:\n",
    "        freq[word]+=1\n",
    "    for word in freq.keys():\n",
    "        freq[word] /=  len(words)\n",
    "    term_freq.append(freq)\n",
    "term_freq"
   ]
  },
  {
   "cell_type": "code",
   "execution_count": 51,
   "metadata": {},
   "outputs": [
    {
     "data": {
      "text/plain": [
       "(4, 10)"
      ]
     },
     "execution_count": 51,
     "metadata": {},
     "output_type": "execute_result"
    }
   ],
   "source": [
    "tfidf_mat = []\n",
    "for word in tf_matrix.keys():\n",
    "    tf_idf=[]\n",
    "    for val in tf_matrix[word]:\n",
    "        score = val*word_idf[word]\n",
    "        tf_idf.append(score)\n",
    "    tfidf_mat.append(tf_idf)\n",
    "tfidf_mat = np.asarray(tfidf_mat).T\n",
    "tfidf_mat.shape"
   ]
  },
  {
   "cell_type": "code",
   "execution_count": 50,
   "metadata": {},
   "outputs": [
    {
     "data": {
      "text/plain": [
       "10"
      ]
     },
     "execution_count": 50,
     "metadata": {},
     "output_type": "execute_result"
    }
   ],
   "source": [
    "len(tfidf_mat)"
   ]
  },
  {
   "cell_type": "code",
   "execution_count": null,
   "metadata": {},
   "outputs": [],
   "source": []
  }
 ],
 "metadata": {
  "kernelspec": {
   "display_name": "Python 3",
   "language": "python",
   "name": "python3"
  },
  "language_info": {
   "codemirror_mode": {
    "name": "ipython",
    "version": 3
   },
   "file_extension": ".py",
   "mimetype": "text/x-python",
   "name": "python",
   "nbconvert_exporter": "python",
   "pygments_lexer": "ipython3",
   "version": "3.6.9"
  }
 },
 "nbformat": 4,
 "nbformat_minor": 4
}
